{
 "cells": [
  {
   "attachments": {},
   "cell_type": "markdown",
   "metadata": {},
   "source": [
    "# Data Analysis (Ex_Social)"
   ]
  },
  {
   "attachments": {},
   "cell_type": "markdown",
   "metadata": {},
   "source": [
    "## Import CSV into SQLite3"
   ]
  },
  {
   "cell_type": "code",
   "execution_count": 1,
   "metadata": {},
   "outputs": [],
   "source": [
    "import csv, sqlite3\n",
    "import pandas as pd"
   ]
  },
  {
   "cell_type": "code",
   "execution_count": 2,
   "metadata": {},
   "outputs": [
    {
     "data": {
      "text/html": [
       "<div>\n",
       "<style scoped>\n",
       "    .dataframe tbody tr th:only-of-type {\n",
       "        vertical-align: middle;\n",
       "    }\n",
       "\n",
       "    .dataframe tbody tr th {\n",
       "        vertical-align: top;\n",
       "    }\n",
       "\n",
       "    .dataframe thead th {\n",
       "        text-align: right;\n",
       "    }\n",
       "</style>\n",
       "<table border=\"1\" class=\"dataframe\">\n",
       "  <thead>\n",
       "    <tr style=\"text-align: right;\">\n",
       "      <th></th>\n",
       "      <th>user_id</th>\n",
       "      <th>follows</th>\n",
       "      <th>date</th>\n",
       "    </tr>\n",
       "  </thead>\n",
       "  <tbody>\n",
       "    <tr>\n",
       "      <th>0</th>\n",
       "      <td>1</td>\n",
       "      <td>2</td>\n",
       "      <td>1993-09-01</td>\n",
       "    </tr>\n",
       "    <tr>\n",
       "      <th>1</th>\n",
       "      <td>2</td>\n",
       "      <td>1</td>\n",
       "      <td>1989-01-01</td>\n",
       "    </tr>\n",
       "    <tr>\n",
       "      <th>2</th>\n",
       "      <td>3</td>\n",
       "      <td>1</td>\n",
       "      <td>1993-07-01</td>\n",
       "    </tr>\n",
       "  </tbody>\n",
       "</table>\n",
       "</div>"
      ],
      "text/plain": [
       "   user_id  follows        date\n",
       "0        1        2  1993-09-01\n",
       "1        2        1  1989-01-01\n",
       "2        3        1  1993-07-01"
      ]
     },
     "execution_count": 2,
     "metadata": {},
     "output_type": "execute_result"
    }
   ],
   "source": [
    "follows_df = pd.read_csv(\"../data/follows.csv\")\n",
    "follows_df.head(3)"
   ]
  },
  {
   "cell_type": "code",
   "execution_count": 3,
   "metadata": {},
   "outputs": [
    {
     "data": {
      "text/html": [
       "<div>\n",
       "<style scoped>\n",
       "    .dataframe tbody tr th:only-of-type {\n",
       "        vertical-align: middle;\n",
       "    }\n",
       "\n",
       "    .dataframe tbody tr th {\n",
       "        vertical-align: top;\n",
       "    }\n",
       "\n",
       "    .dataframe thead th {\n",
       "        text-align: right;\n",
       "    }\n",
       "</style>\n",
       "<table border=\"1\" class=\"dataframe\">\n",
       "  <thead>\n",
       "    <tr style=\"text-align: right;\">\n",
       "      <th></th>\n",
       "      <th>user_id</th>\n",
       "      <th>first_name</th>\n",
       "      <th>last_name</th>\n",
       "      <th>house</th>\n",
       "    </tr>\n",
       "  </thead>\n",
       "  <tbody>\n",
       "    <tr>\n",
       "      <th>0</th>\n",
       "      <td>1</td>\n",
       "      <td>Harry</td>\n",
       "      <td>Potter</td>\n",
       "      <td>Gryffindor</td>\n",
       "    </tr>\n",
       "    <tr>\n",
       "      <th>1</th>\n",
       "      <td>2</td>\n",
       "      <td>Ron</td>\n",
       "      <td>Wesley</td>\n",
       "      <td>Gryffindor</td>\n",
       "    </tr>\n",
       "    <tr>\n",
       "      <th>2</th>\n",
       "      <td>3</td>\n",
       "      <td>Hermonie</td>\n",
       "      <td>Granger</td>\n",
       "      <td>Gryffindor</td>\n",
       "    </tr>\n",
       "  </tbody>\n",
       "</table>\n",
       "</div>"
      ],
      "text/plain": [
       "   user_id first_name last_name       house\n",
       "0        1      Harry    Potter  Gryffindor\n",
       "1        2        Ron    Wesley  Gryffindor\n",
       "2        3   Hermonie   Granger  Gryffindor"
      ]
     },
     "execution_count": 3,
     "metadata": {},
     "output_type": "execute_result"
    }
   ],
   "source": [
    "users_df = pd.read_csv(\"../data/users.csv\")\n",
    "users_df.head(3)"
   ]
  },
  {
   "cell_type": "code",
   "execution_count": 18,
   "metadata": {},
   "outputs": [],
   "source": [
    "conn = sqlite3.connect(\"ex_social.db\")"
   ]
  },
  {
   "cell_type": "code",
   "execution_count": 13,
   "metadata": {},
   "outputs": [],
   "source": [
    "follows_csv = \"follows\"\n",
    "columns = [\"user_id\", \"follows\", \"date\"]\n",
    "follows_db = f\"Create table {follows_csv} ({', '.join(columns)})\""
   ]
  },
  {
   "cell_type": "code",
   "execution_count": 14,
   "metadata": {},
   "outputs": [
    {
     "data": {
      "text/plain": [
       "<sqlite3.Cursor at 0x7f005dab18c0>"
      ]
     },
     "execution_count": 14,
     "metadata": {},
     "output_type": "execute_result"
    }
   ],
   "source": [
    "conn.execute(follows_db)"
   ]
  },
  {
   "cell_type": "code",
   "execution_count": 15,
   "metadata": {},
   "outputs": [],
   "source": [
    "with open(\"../data/follows.csv\", \"r\") as csvfile:\n",
    "    reader = csv.reader(csvfile)\n",
    "    next(reader)\n",
    "    data = [tuple(row) for row in reader]"
   ]
  },
  {
   "cell_type": "code",
   "execution_count": 16,
   "metadata": {},
   "outputs": [],
   "source": [
    "insert_follows = f\"Insert into {follows_csv} values ({', '.join(['?'] * len(columns))})\"\n",
    "for row in data:\n",
    "    conn.execute(insert_follows, row)"
   ]
  },
  {
   "cell_type": "code",
   "execution_count": 17,
   "metadata": {},
   "outputs": [],
   "source": [
    "conn.commit()"
   ]
  },
  {
   "cell_type": "code",
   "execution_count": 19,
   "metadata": {},
   "outputs": [
    {
     "data": {
      "text/plain": [
       "<sqlite3.Cursor at 0x7f005dab0f40>"
      ]
     },
     "execution_count": 19,
     "metadata": {},
     "output_type": "execute_result"
    }
   ],
   "source": [
    "users_csv = \"users\"\n",
    "columns = [\"user_id\", \"first_name\", \"last_name\", \"house\"]\n",
    "users_db = f\"Create table {users_csv} ({', '.join(columns)})\"\n",
    "\n",
    "conn.execute(users_db)"
   ]
  },
  {
   "cell_type": "code",
   "execution_count": 21,
   "metadata": {},
   "outputs": [],
   "source": [
    "with open(\"../data/users.csv\", \"r\") as csvfile:\n",
    "    reader = csv.reader(csvfile)\n",
    "    next(reader)\n",
    "    data = [tuple(row) for row in reader]"
   ]
  },
  {
   "cell_type": "code",
   "execution_count": 22,
   "metadata": {},
   "outputs": [],
   "source": [
    "insert_users = f\"Insert into {users_csv} values ({', '.join(['?'] * len(columns))})\"\n",
    "for row in data:\n",
    "    conn.execute(insert_users, row)"
   ]
  },
  {
   "cell_type": "code",
   "execution_count": 23,
   "metadata": {},
   "outputs": [],
   "source": [
    "conn.commit()\n",
    "conn.close()"
   ]
  },
  {
   "attachments": {},
   "cell_type": "markdown",
   "metadata": {},
   "source": [
    "## Questions to Answer"
   ]
  },
  {
   "cell_type": "code",
   "execution_count": 4,
   "metadata": {},
   "outputs": [],
   "source": [
    "dbfile = \"../data/ex_social.db\"\n",
    "conn = sqlite3.connect(dbfile)\n",
    "\n",
    "cur = conn.cursor()"
   ]
  },
  {
   "attachments": {},
   "cell_type": "markdown",
   "metadata": {},
   "source": [
    "### 1. How many users are there in each house?"
   ]
  },
  {
   "cell_type": "code",
   "execution_count": 5,
   "metadata": {},
   "outputs": [],
   "source": [
    "def users_in_house(db):\n",
    "\n",
    "    query = \"\"\"\n",
    "    SELECT u.house, COUNT(u.house)\n",
    "    FROM users u\n",
    "    GROUP BY (u.house)\n",
    "    ORDER BY COUNT(u.house) DESC\n",
    "    \"\"\"\n",
    "\n",
    "    db.execute(query)\n",
    "    rows = db.fetchall()\n",
    "    \n",
    "    print(rows)"
   ]
  },
  {
   "cell_type": "code",
   "execution_count": 6,
   "metadata": {},
   "outputs": [
    {
     "name": "stdout",
     "output_type": "stream",
     "text": [
      "[('Gryffindor', 4), ('Slytherin', 2), ('Ravenclaw', 2), ('Hufflepuff', 1)]\n"
     ]
    }
   ],
   "source": [
    "users_in_house(cur)"
   ]
  },
  {
   "attachments": {},
   "cell_type": "markdown",
   "metadata": {},
   "source": [
    "### 2. List all following links that were created before September 1st, 1993"
   ]
  },
  {
   "cell_type": "code",
   "execution_count": 7,
   "metadata": {},
   "outputs": [
    {
     "data": {
      "text/plain": [
       "[('1',), ('1',), ('2',), ('1',), ('6',), ('1',)]"
      ]
     },
     "execution_count": 7,
     "metadata": {},
     "output_type": "execute_result"
    }
   ],
   "source": [
    "query = \"\"\"\n",
    "SELECT follows \n",
    "FROM follows\n",
    "WHERE date < \"1993-09-01\"\n",
    "\"\"\"\n",
    "\n",
    "cur.execute(query)\n",
    "rows = cur.fetchall()\n",
    "\n",
    "rows"
   ]
  },
  {
   "attachments": {},
   "cell_type": "markdown",
   "metadata": {},
   "source": [
    "### 3. List all the following links established before September 1st 1993, but this time use the users first names"
   ]
  },
  {
   "cell_type": "code",
   "execution_count": 8,
   "metadata": {},
   "outputs": [
    {
     "data": {
      "text/plain": [
       "[('1', 'Ron'),\n",
       " ('1', 'Hermonie'),\n",
       " ('2', 'Ginny'),\n",
       " ('1', 'Ginny'),\n",
       " ('6', 'Draco'),\n",
       " ('1', 'Luna')]"
      ]
     },
     "execution_count": 8,
     "metadata": {},
     "output_type": "execute_result"
    }
   ],
   "source": [
    "query = \"\"\"\n",
    "SELECT \n",
    "\tf.follows,\n",
    "\tusers.first_name \n",
    "FROM follows as f\n",
    "JOIN users ON f.user_id = users.user_id \n",
    "WHERE date < \"1993-09-01\"\n",
    "\"\"\"\n",
    "\n",
    "cur.execute(query)\n",
    "rows = cur.fetchall()\n",
    "\n",
    "rows"
   ]
  },
  {
   "attachments": {},
   "cell_type": "markdown",
   "metadata": {},
   "source": [
    "### 4. Give a count of how many people followed each user as of 1999-12-31. Give the result in term of \"users fullname, number of followers"
   ]
  },
  {
   "cell_type": "code",
   "execution_count": 10,
   "metadata": {},
   "outputs": [
    {
     "data": {
      "text/plain": [
       "[('Ginny Weasley', 2),\n",
       " ('Ron Wesley', 1),\n",
       " ('Luna Lovegood', 1),\n",
       " ('Hermonie Granger', 1),\n",
       " ('Draco Malfoy', 1)]"
      ]
     },
     "execution_count": 10,
     "metadata": {},
     "output_type": "execute_result"
    }
   ],
   "source": [
    "query = \"\"\"\n",
    "SELECT \n",
    "\t(u.first_name || \" \" || u.last_name) as fullname,\n",
    "\tCOUNT(f.follows)\n",
    "FROM users u\n",
    "JOIN follows f ON f.user_id = u.user_id\n",
    "WHERE f.date < \"1993-09-01\"\n",
    "GROUP BY fullname\n",
    "ORDER BY COUNT(f.follows) DESC\n",
    "\"\"\"\n",
    "\n",
    "cur.execute(query)\n",
    "rows = cur.fetchall()\n",
    "\n",
    "rows"
   ]
  },
  {
   "attachments": {},
   "cell_type": "markdown",
   "metadata": {},
   "source": [
    "### 5. List the number of users each user follows"
   ]
  },
  {
   "cell_type": "code",
   "execution_count": 11,
   "metadata": {},
   "outputs": [
    {
     "data": {
      "text/plain": [
       "[('Harry Potter', 5),\n",
       " ('Ron Wesley', 2),\n",
       " ('Hermonie Granger', 3),\n",
       " ('Ginny Weasley', 3),\n",
       " ('Draco Malfoy', 2),\n",
       " ('Luna Lovegood', 2),\n",
       " ('Cho Chang', 2),\n",
       " ('Cedric Diggory', 1)]"
      ]
     },
     "execution_count": 11,
     "metadata": {},
     "output_type": "execute_result"
    }
   ],
   "source": [
    "query = \"\"\"\n",
    "SELECT \n",
    "\t(u.first_name || \" \" || u.last_name) as fullname,\n",
    "\tCOUNT(f.follows)\n",
    "FROM users u\n",
    "JOIN follows f ON f.user_id = u.user_id\n",
    "GROUP BY fullname\n",
    "ORDER BY u.user_id \n",
    "\"\"\"\n",
    "\n",
    "cur.execute(query)\n",
    "rows = cur.fetchall()\n",
    "\n",
    "rows"
   ]
  },
  {
   "attachments": {},
   "cell_type": "markdown",
   "metadata": {},
   "source": [
    "### 6. List all rows from follows where someone from one house follows someone from a different house. Please give the result with user names."
   ]
  },
  {
   "cell_type": "code",
   "execution_count": null,
   "metadata": {},
   "outputs": [],
   "source": [
    "query = \"\"\"\n",
    "\n",
    "\"\"\""
   ]
  },
  {
   "attachments": {},
   "cell_type": "markdown",
   "metadata": {},
   "source": [
    "### 7. List all unrequited followings (i.e. where A follows B but B does not follow A)"
   ]
  },
  {
   "cell_type": "code",
   "execution_count": 13,
   "metadata": {},
   "outputs": [
    {
     "data": {
      "text/plain": [
       "[('3', '1'), ('4', '2'), ('5', '6'), ('7', '8'), ('3', '9'), ('4', '9')]"
      ]
     },
     "execution_count": 13,
     "metadata": {},
     "output_type": "execute_result"
    }
   ],
   "source": [
    "query = \"\"\"\n",
    "SELECT\n",
    "    f.user_id,\n",
    "    f.follows\n",
    "FROM follows f \n",
    "WHERE NOT EXISTS (\n",
    "\tSELECT *\n",
    "\tFROM follows f2 \n",
    "\tWHERE f.user_id = f2.follows AND f.follows = f2.user_id)\n",
    "\"\"\"\n",
    "\n",
    "cur.execute(query)\n",
    "rows = cur.fetchall()\n",
    "\n",
    "rows"
   ]
  }
 ],
 "metadata": {
  "kernelspec": {
   "display_name": "coding_projects",
   "language": "python",
   "name": "python3"
  },
  "language_info": {
   "codemirror_mode": {
    "name": "ipython",
    "version": 3
   },
   "file_extension": ".py",
   "mimetype": "text/x-python",
   "name": "python",
   "nbconvert_exporter": "python",
   "pygments_lexer": "ipython3",
   "version": "3.10.6"
  },
  "orig_nbformat": 4
 },
 "nbformat": 4,
 "nbformat_minor": 2
}
